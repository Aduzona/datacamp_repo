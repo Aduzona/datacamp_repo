{
 "cells": [
  {
   "cell_type": "markdown",
   "metadata": {},
   "source": [
    "# Making Model Predictions\n",
    "> Next we will apply models to real data and make predictions. We will explore some of the most common pit-falls and limitations of predictions, and we evaluate and compare models by quantifying and contrasting several measures of goodness-of-fit, including RMSE and R-squared. This is the Summary of lecture \"Introduction to Linear Modeling in Python\", via datacamp.\n",
    "\n",
    "- toc: true \n",
    "- badges: true\n",
    "- comments: true\n",
    "- author: Chanseok Kang\n",
    "- categories: [Python, Datacamp, Statistics, Modeling]\n",
    "- image: "
   ]
  },
  {
   "cell_type": "code",
   "execution_count": 1,
   "metadata": {},
   "outputs": [],
   "source": [
    "import pandas as pd\n",
    "import numpy as np\n",
    "import matplotlib.pyplot as plt\n",
    "import seaborn as sns\n",
    "\n",
    "plt.rcParams['figure.figsize'] = (10, 5)"
   ]
  },
  {
   "cell_type": "markdown",
   "metadata": {},
   "source": [
    "## Modeling Real Data\n"
   ]
  },
  {
   "cell_type": "markdown",
   "metadata": {},
   "source": [
    "### Linear Model in Anthropology\n",
    "If you found part of a skeleton, from an adult human that lived thousands of years ago, how could you estimate the height of the person that it came from? This exercise is in part inspired by the work of forensic anthropologist Mildred Trotter, who built a regression model for the calculation of stature estimates from human \"long bones\" or femurs that is commonly used today.\n",
    "\n",
    "In this exercise, you'll use data from many living people, and the python library scikit-learn, to build a linear model relating the length of the femur (thigh bone) to the \"stature\" (overall height) of the person. Then, you'll apply your model to make a prediction about the height of your ancient ancestor.\n",
    "\n"
   ]
  },
  {
   "cell_type": "code",
   "execution_count": 30,
   "metadata": {},
   "outputs": [],
   "source": [
    "femur = pd.read_csv('./dataset/femur_data.csv')\n",
    "legs = femur['length'].to_numpy()\n",
    "heights = femur['height'].to_numpy()"
   ]
  },
  {
   "cell_type": "code",
   "execution_count": 31,
   "metadata": {},
   "outputs": [
    {
     "data": {
      "image/png": "[encoded data removed]",
      "text/plain": [
       "<Figure size 720x360 with 1 Axes>"
      ]
     },
     "metadata": {
      "needs_background": "light"
     },
     "output_type": "display_data"
    }
   ],
   "source": [
    "from matplotlib.ticker import MultipleLocator\n",
    "font_options = {'family': 'Arial', 'size': 16}\n",
    "plt.rc('font', **font_options)\n",
    "fig, axis = plt.subplots()\n",
    "axis.scatter(legs, heights, color=\"black\", marker=\"o\");\n",
    "axis.grid(True, which=\"both\");\n",
    "axis.axhline(0, color=\"black\");\n",
    "axis.axvline(0, color=\"black\");\n",
    "axis.set_xlim(-10, 100)\n",
    "axis.set_ylim(-50, 300)\n",
    "axis.set_ylabel('Height (cm)');\n",
    "axis.set_xlabel('Femur Length (cm)');\n",
    "axis.set_title(\"Relating Long Bone Length and Height\");"
   ]
  },
  {
   "cell_type": "code",
   "execution_count": 32,
   "metadata": {},
   "outputs": [
    {
     "name": "stdout",
     "output_type": "stream",
     "text": [
      "Predicted fossil height = 181.34 cm\n"
     ]
    }
   ],
   "source": [
    "from sklearn.linear_model import LinearRegression\n",
    "model = LinearRegression(fit_intercept=False)\n",
    "\n",
    "# Prepare the measured data arrays and fit the model to them\n",
    "legs = legs.reshape(len(legs), 1)\n",
    "heights = heights.reshape(len(heights), 1)\n",
    "model.fit(legs, heights)\n",
    "\n",
    "# Use the fitted model to make a prediction for the found femur\n",
    "fossil_leg = np.array([50.7]).reshape(-1, 1)\n",
    "fossil_height = model.predict(fossil_leg)\n",
    "print(\"Predicted fossil height = {:0.2f} cm\".format(fossil_height[0, 0]))"
   ]
  },
  {
   "cell_type": "markdown",
   "metadata": {},
   "source": [
    "### Linear Model in Oceanography\n",
    "Time-series data provides a context in which the \"slope\" of the linear model represents a \"rate-of-change\".\n",
    "\n",
    "In this exercise, you will use measurements of sea level change from 1970 to 2010, build a linear model of that changing sea level and use it to make a prediction about the future sea level rise."
   ]
  },
  {
   "cell_type": "code",
   "execution_count": 34,
   "metadata": {},
   "outputs": [
    {
     "data": {
      "text/html": [
       "<div>\n",
       "<style scoped>\n",
       "    .dataframe tbody tr th:only-of-type {\n",
       "        vertical-align: middle;\n",
       "    }\n",
       "\n",
       "    .dataframe tbody tr th {\n",
       "        vertical-align: top;\n",
       "    }\n",
       "\n",
       "    .dataframe thead th {\n",
       "        text-align: right;\n",
       "    }\n",
       "</style>\n",
       "<table border=\"1\" class=\"dataframe\">\n",
       "  <thead>\n",
       "    <tr style=\"text-align: right;\">\n",
       "      <th></th>\n",
       "      <th>year</th>\n",
       "      <th>sea_level_inches</th>\n",
       "    </tr>\n",
       "  </thead>\n",
       "  <tbody>\n",
       "    <tr>\n",
       "      <th>0</th>\n",
       "      <td>1970</td>\n",
       "      <td>4.677165</td>\n",
       "    </tr>\n",
       "    <tr>\n",
       "      <th>1</th>\n",
       "      <td>1971</td>\n",
       "      <td>4.881890</td>\n",
       "    </tr>\n",
       "    <tr>\n",
       "      <th>2</th>\n",
       "      <td>1972</td>\n",
       "      <td>5.240157</td>\n",
       "    </tr>\n",
       "    <tr>\n",
       "      <th>3</th>\n",
       "      <td>1973</td>\n",
       "      <td>5.003937</td>\n",
       "    </tr>\n",
       "    <tr>\n",
       "      <th>4</th>\n",
       "      <td>1974</td>\n",
       "      <td>5.472441</td>\n",
       "    </tr>\n",
       "  </tbody>\n",
       "</table>\n",
       "</div>"
      ],
      "text/plain": [
       "   year  sea_level_inches\n",
       "0  1970          4.677165\n",
       "1  1971          4.881890\n",
       "2  1972          5.240157\n",
       "3  1973          5.003937\n",
       "4  1974          5.472441"
      ]
     },
     "execution_count": 34,
     "metadata": {},
     "output_type": "execute_result"
    }
   ],
   "source": [
    "sea = pd.read_csv('./dataset/sea_level_data.csv')\n",
    "years = sea['year'].to_numpy()\n",
    "levels = sea['sea_level_inches'].to_numpy()\n",
    "df.head()"
   ]
  },
  {
   "cell_type": "code",
   "execution_count": 35,
   "metadata": {},
   "outputs": [
    {
     "data": {
      "image/png": "[encoded data removed]",
      "text/plain": [
       "<Figure size 720x360 with 1 Axes>"
      ]
     },
     "metadata": {
      "needs_background": "light"
     },
     "output_type": "display_data"
    }
   ],
   "source": [
    "font_options = {'family': 'Arial', 'size': 16}\n",
    "plt.rc('font', **font_options)\n",
    "fig, axis = plt.subplots()\n",
    "axis.scatter(years, levels, color=\"black\", marker=\"o\");\n",
    "axis.grid(True, which=\"both\");\n",
    "axis.axhline(0, color=\"black\");\n",
    "axis.axvline(0, color=\"black\");\n",
    "axis.set_xlim(1965, 2015)\n",
    "axis.set_ylabel('Sea Level Change (inches)');\n",
    "axis.set_xlabel('Time (year)');\n",
    "axis.set_title(\"Relating Long Bone Length and Height\");"
   ]
  },
  {
   "cell_type": "code",
   "execution_count": 38,
   "metadata": {},
   "outputs": [],
   "source": [
    "def plot_data_and_forecast(years, levels, years_forecast, levels_forecast):\n",
    "    \"\"\"\n",
    "    Purpose:\n",
    "        Over-plot the forecast data with the measured data used to fit the model\n",
    "    Args:\n",
    "        years (np.array): independent (\"x\") variable of measured data set\n",
    "        levels (np.array): dependent (\"y\") variable of measured data set\n",
    "        years_forecast (np.array): independent (\"x\") variable of forecast/modeled data\n",
    "        levels_forecast (np.array): dependent (\"y\") variable of forecast/modeled data\n",
    "    Returns:\n",
    "        fig (matplotlib.figure): matplotlib figure object containing the plot\n",
    "    \"\"\"\n",
    "    font_options = {'family': 'Arial', 'size': 16}\n",
    "    plt.rc('font', **font_options)\n",
    "    fig, axis = plt.subplots(figsize=(8,4))\n",
    "    axis.plot(years, levels, color=\"black\", linestyle=\" \", marker=\"o\", label='Data')\n",
    "    axis.plot(years_forecast, levels_forecast, marker=\".\", color=\"red\", label='Forecast')\n",
    "    axis.grid(True, which=\"both\")\n",
    "    axis.axhline(0, color=\"black\")\n",
    "    axis.axvline(0, color=\"black\")\n",
    "    axis.xaxis.set_major_locator(MultipleLocator(50.0))\n",
    "    axis.xaxis.set_minor_locator(MultipleLocator(10.0))\n",
    "    axis.yaxis.set_major_locator(MultipleLocator(5.0))\n",
    "    axis.yaxis.set_minor_locator(MultipleLocator(1.0))\n",
    "    axis.set_ylim([0, 20])\n",
    "    axis.set_xlim([1965, 2105])\n",
    "    axis.set_ylabel('Sea Level Change (inches)')\n",
    "    axis.set_xlabel('Time (years)')\n",
    "    axis.set_title(\"Global Average Sea Level Change\")\n",
    "    axis.legend()\n",
    "    plt.show()\n",
    "    return fig"
   ]
  },
  {
   "cell_type": "code",
   "execution_count": 39,
   "metadata": {},
   "outputs": [
    {
     "name": "stdout",
     "output_type": "stream",
     "text": [
      "Prediction: year = [[2100]], level = 16.66\n"
     ]
    },
    {
     "data": {
      "image/png": "[encoded data removed]",
      "text/plain": [
       "<Figure size 576x288 with 1 Axes>"
      ]
     },
     "metadata": {
      "needs_background": "light"
     },
     "output_type": "display_data"
    }
   ],
   "source": [
    "# Build a model, fit to the data\n",
    "model = LinearRegression(fit_intercept=True)\n",
    "years = years.reshape(len(years), 1)\n",
    "levels = levels.reshape(len(levels), 1)\n",
    "model.fit(years, levels)\n",
    "\n",
    "# Use model to make a prediction for one year, 2100\n",
    "future_year = np.array([2100]).reshape(-1, 1)\n",
    "future_level = model.predict(future_year)\n",
    "print(\"Prediction: year = {}, level = {:.02f}\".format(future_year, future_level[0, 0]))\n",
    "\n",
    "# Use model to predict for many years, and over-plot with measured data\n",
    "years_forecast = np.linspace(1970, 2100, 131).reshape(-1, 1)\n",
    "levels_forecast = model.predict(years_forecast)\n",
    "fig = plot_data_and_forecast(years, levels, years_forecast, levels_forecast)"
   ]
  },
  {
   "cell_type": "markdown",
   "metadata": {},
   "source": [
    "### Linear Model in Cosmology\n",
    "Less than 100 years ago, the universe appeared to be composed of a single static galaxy, containing perhaps a million stars. Today we have observations of hundreds of billions of galaxies, each with hundreds of billions of stars, all moving.\n",
    "\n",
    "The beginnings of the modern physical science of cosmology came with the [publication in 1929 by Edwin Hubble](http://www.pnas.org/content/15/3/168) that included use of a linear model.\n",
    "\n",
    "In this exercise, you will build a model whose slope will give Hubble's Constant, which describes the velocity of galaxies as a linear function of distance from Earth."
   ]
  },
  {
   "cell_type": "code",
   "execution_count": 41,
   "metadata": {},
   "outputs": [
    {
     "data": {
      "text/html": [
       "<div>\n",
       "<style scoped>\n",
       "    .dataframe tbody tr th:only-of-type {\n",
       "        vertical-align: middle;\n",
       "    }\n",
       "\n",
       "    .dataframe tbody tr th {\n",
       "        vertical-align: top;\n",
       "    }\n",
       "\n",
       "    .dataframe thead th {\n",
       "        text-align: right;\n",
       "    }\n",
       "</style>\n",
       "<table border=\"1\" class=\"dataframe\">\n",
       "  <thead>\n",
       "    <tr style=\"text-align: right;\">\n",
       "      <th></th>\n",
       "      <th>names</th>\n",
       "      <th>distances</th>\n",
       "      <th>velocities</th>\n",
       "    </tr>\n",
       "  </thead>\n",
       "  <tbody>\n",
       "    <tr>\n",
       "      <th>0</th>\n",
       "      <td>SMC</td>\n",
       "      <td>0.032</td>\n",
       "      <td>170</td>\n",
       "    </tr>\n",
       "    <tr>\n",
       "      <th>1</th>\n",
       "      <td>LMC</td>\n",
       "      <td>0.034</td>\n",
       "      <td>290</td>\n",
       "    </tr>\n",
       "    <tr>\n",
       "      <th>2</th>\n",
       "      <td>NGC-221</td>\n",
       "      <td>0.275</td>\n",
       "      <td>-185</td>\n",
       "    </tr>\n",
       "    <tr>\n",
       "      <th>3</th>\n",
       "      <td>NGC-224</td>\n",
       "      <td>0.275</td>\n",
       "      <td>-220</td>\n",
       "    </tr>\n",
       "    <tr>\n",
       "      <th>4</th>\n",
       "      <td>NGC-598</td>\n",
       "      <td>0.263</td>\n",
       "      <td>-70</td>\n",
       "    </tr>\n",
       "  </tbody>\n",
       "</table>\n",
       "</div>"
      ],
      "text/plain": [
       "     names  distances  velocities\n",
       "0      SMC      0.032         170\n",
       "1      LMC      0.034         290\n",
       "2  NGC-221      0.275        -185\n",
       "3  NGC-224      0.275        -220\n",
       "4  NGC-598      0.263         -70"
      ]
     },
     "execution_count": 41,
     "metadata": {},
     "output_type": "execute_result"
    }
   ],
   "source": [
    "df = pd.read_csv('./dataset/hubble_data.csv')\n",
    "df.head()"
   ]
  },
  {
   "cell_type": "code",
   "execution_count": 45,
   "metadata": {},
   "outputs": [
    {
     "name": "stdout",
     "output_type": "stream",
     "text": [
      "For slope a1=454.16, the uncertainty in a1 is 75.24\n",
      "For intercept a0=-40.78, the uncertainty in a0 is 83.44\n"
     ]
    }
   ],
   "source": [
    "from statsmodels.formula.api import ols\n",
    "\n",
    "# Fit the model, based on the form of the formula\n",
    "model_fit = ols(formula='velocities ~ distances', data=df).fit()\n",
    "\n",
    "# Extract the model parameters and associated \"errors\" or uncertainties\n",
    "a0 = model_fit.params['Intercept']\n",
    "a1 = model_fit.params['distances']\n",
    "e0 = model_fit.bse['Intercept']\n",
    "e1 = model_fit.bse['distances']\n",
    "\n",
    "# Print the results\n",
    "print('For slope a1={:.02f}, the uncertainty in a1 is {:.02f}'.format(a1, e1))\n",
    "print('For intercept a0={:.02f}, the uncertainty in a0 is {:.02f}'.format(a0, e0))"
   ]
  },
  {
   "cell_type": "markdown",
   "metadata": {},
   "source": [
    "## The Limits of Prediction\n"
   ]
  }
 ],
 "metadata": {
  "kernelspec": {
   "display_name": "Python 3",
   "language": "python",
   "name": "python3"
  },
  "language_info": {
   "codemirror_mode": {
    "name": "ipython",
    "version": 3
   },
   "file_extension": ".py",
   "mimetype": "text/x-python",
   "name": "python",
   "nbconvert_exporter": "python",
   "pygments_lexer": "ipython3",
   "version": "3.7.6"
  }
 },
 "nbformat": 4,
 "nbformat_minor": 4
}
