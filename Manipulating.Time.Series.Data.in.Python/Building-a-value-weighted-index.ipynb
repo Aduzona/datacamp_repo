{
 "cells": [
  {
   "cell_type": "markdown",
   "metadata": {},
   "source": [
    "# Putting it all together: Building a value-weighted index\n",
    "> A Summary of lecture \"Manipulating Time Series Data in Python\", via datacamp\n",
    "\n",
    "- toc: true \n",
    "- badges: true\n",
    "- comments: true\n",
    "- author: Chanseok Kang\n",
    "- categories: [Python, Datacamp, Time-Series Analysis]\n",
    "- image: "
   ]
  },
  {
   "cell_type": "code",
   "execution_count": 1,
   "metadata": {},
   "outputs": [],
   "source": [
    "import pandas as pd\n",
    "import numpy as np\n",
    "import matplotlib.pyplot as plt\n",
    "import seaborn as sns\n",
    "\n",
    "plt.rcParams['figure.figsize'] = (10, 5)"
   ]
  },
  {
   "cell_type": "markdown",
   "metadata": {},
   "source": [
    "## Select index components & import data\n",
    "- Market value-weighted index\n",
    "    - Composite performance of various stocks\n",
    "    - Components weighted by market capitalization\n",
    "        - ```Share Price``` * ```Number of Shares``` => ```Market Value```\n",
    "    - Larger components get higher percentage weightings\n",
    "    - Key market indexes are value-weighted\n",
    "        - S&P500, NASDAQ, Wilshire 5000, Hang Seng, ...\n",
    "- Build a cap-weighted Index\n",
    "    - Apply new skills to construct value-weighted index\n",
    "        - Select components from exchange listing data\n",
    "        - Get component number of shares and stock prices\n",
    "        - Calculate component weights\n",
    "        - Calculate index\n",
    "        - Evaluate performance of components and index"
   ]
  },
  {
   "cell_type": "markdown",
   "metadata": {},
   "source": [
    "### Explore and clean company listing information\n",
    "To get started with the construction of a market-value based index, you'll work with the combined listing info for the three largest US stock exchanges, the NYSE, the NASDAQ and the AMEX.\n",
    "\n",
    "In this and the next exercise, you will calculate market-cap weights for these stocks."
   ]
  },
  {
   "cell_type": "code",
   "execution_count": 16,
   "metadata": {},
   "outputs": [],
   "source": [
    "listings = pd.read_excel('./dataset/listings.xlsx', sheet_name='nyse', na_values='n/a')\n",
    "listings['Market Capitalization'] /= 1e6"
   ]
  },
  {
   "cell_type": "code",
   "execution_count": 17,
   "metadata": {},
   "outputs": [
    {
     "name": "stdout",
     "output_type": "stream",
     "text": [
      "<class 'pandas.core.frame.DataFrame'>\n",
      "RangeIndex: 3147 entries, 0 to 3146\n",
      "Data columns (total 7 columns):\n",
      " #   Column                 Non-Null Count  Dtype  \n",
      "---  ------                 --------------  -----  \n",
      " 0   Stock Symbol           3147 non-null   object \n",
      " 1   Company Name           3147 non-null   object \n",
      " 2   Last Sale              3079 non-null   float64\n",
      " 3   Market Capitalization  3147 non-null   float64\n",
      " 4   IPO Year               1361 non-null   float64\n",
      " 5   Sector                 2177 non-null   object \n",
      " 6   Industry               2177 non-null   object \n",
      "dtypes: float64(3), object(4)\n",
      "memory usage: 172.2+ KB\n",
      "None\n",
      "<class 'pandas.core.frame.DataFrame'>\n",
      "Index: 967 entries, WBAI to ZTO\n",
      "Data columns (total 6 columns):\n",
      " #   Column                 Non-Null Count  Dtype  \n",
      "---  ------                 --------------  -----  \n",
      " 0   Company Name           967 non-null    object \n",
      " 1   Last Sale              967 non-null    float64\n",
      " 2   Market Capitalization  967 non-null    float64\n",
      " 3   IPO Year               967 non-null    float64\n",
      " 4   Sector                 967 non-null    object \n",
      " 5   Industry               967 non-null    object \n",
      "dtypes: float64(3), object(3)\n",
      "memory usage: 52.9+ KB\n",
      "None\n",
      "Sector\n",
      "Consumer Services        240\n",
      "Finance                  132\n",
      "Energy                   113\n",
      "Technology               108\n",
      "Public Utilities          76\n",
      "Basic Industries          66\n",
      "Capital Goods             61\n",
      "Consumer Non-Durables     47\n",
      "Health Care               43\n",
      "Transportation            37\n",
      "Miscellaneous             25\n",
      "Consumer Durables         19\n",
      "dtype: int64\n"
     ]
    }
   ],
   "source": [
    "# Inspect listings\n",
    "print(listings.info())\n",
    "\n",
    "# Move 'stock symbol' into the index\n",
    "listings.set_index('Stock Symbol', inplace=True)\n",
    "\n",
    "# Drop rows with missing 'sector' data\n",
    "listings.dropna(subset=['Sector'], inplace=True)\n",
    "\n",
    "# Select companies with IPO Year befor 2019\n",
    "listings = listings[listings['IPO Year'] < 2019]\n",
    "\n",
    "# Inspect the new listings data\n",
    "print(listings.info())\n",
    "\n",
    "# Show the number of companies per sector\n",
    "print(listings.groupby('Sector').size().sort_values(ascending=False))"
   ]
  },
  {
   "cell_type": "markdown",
   "metadata": {},
   "source": [
    "### Select and inspect index components\n",
    "Now that you have imported and cleaned the listings data, you can proceed to select the index components as the largest company for each sector by market capitalization.\n",
    "\n",
    "You'll also have the opportunity to take a closer look at the components, their last market value, and last price."
   ]
  },
  {
   "cell_type": "code",
   "execution_count": 23,
   "metadata": {},
   "outputs": [
    {
     "name": "stdout",
     "output_type": "stream",
     "text": [
      "Sector                 Stock Symbol\n",
      "Miscellaneous          BABA            275525.000000\n",
      "Technology             ORCL            181046.096000\n",
      "Health Care            ABBV            102196.076208\n",
      "Transportation         UPS              90180.886756\n",
      "Finance                GS               88840.590477\n",
      "Consumer Non-Durables  ABEV             88240.198455\n",
      "Basic Industries       RIO              70431.476895\n",
      "Public Utilities       TEF              54609.806092\n",
      "Capital Goods          GM               50086.335099\n",
      "Consumer Services      LVS              44384.295569\n",
      "Energy                 PAA              22223.001416\n",
      "Consumer Durables      WRK              12354.903312\n",
      "Name: Market Capitalization, dtype: float64\n",
      "Index(['RIO', 'GM', 'WRK', 'ABEV', 'LVS', 'PAA', 'GS', 'ABBV', 'BABA', 'TEF',\n",
      "       'ORCL', 'UPS'],\n",
      "      dtype='object', name='Stock Symbol')\n",
      "                                    Company Name  Market Capitalization  \\\n",
      "Stock Symbol                                                              \n",
      "BABA               Alibaba Group Holding Limited          275525.000000   \n",
      "ORCL                          Oracle Corporation          181046.096000   \n",
      "ABBV                                 AbbVie Inc.          102196.076208   \n",
      "UPS                  United Parcel Service, Inc.           90180.886756   \n",
      "GS               Goldman Sachs Group, Inc. (The)           88840.590477   \n",
      "ABEV                                  Ambev S.A.           88240.198455   \n",
      "RIO                                Rio Tinto Plc           70431.476895   \n",
      "TEF                                Telefonica SA           54609.806092   \n",
      "GM                        General Motors Company           50086.335099   \n",
      "LVS                        Las Vegas Sands Corp.           44384.295569   \n",
      "PAA           Plains All American Pipeline, L.P.           22223.001416   \n",
      "WRK                             Westrock Company           12354.903312   \n",
      "\n",
      "              Last Sale  \n",
      "Stock Symbol             \n",
      "BABA             110.21  \n",
      "ORCL              44.00  \n",
      "ABBV              64.13  \n",
      "UPS              103.74  \n",
      "GS               223.32  \n",
      "ABEV               5.62  \n",
      "RIO               38.94  \n",
      "TEF               10.84  \n",
      "GM                33.39  \n",
      "LVS               55.90  \n",
      "PAA               30.72  \n",
      "WRK               49.34  \n"
     ]
    }
   ],
   "source": [
    "# Select largest company for each sector\n",
    "components = listings.groupby('Sector')['Market Capitalization'].nlargest(1)\n",
    "\n",
    "# Print components, sorted by market cap\n",
    "print(components.sort_values(ascending=False))\n",
    "\n",
    "# Select stock symbols and print the result\n",
    "tickers = components.index.get_level_values('Stock Symbol')\n",
    "print(tickers)\n",
    "\n",
    "# Print company name, market cap, and last price for each components\n",
    "info_cols = ['Company Name', 'Market Capitalization', 'Last Sale']\n",
    "print(listings.loc[tickers,info_cols].sort_values('Market Capitalization', ascending=False))"
   ]
  },
  {
   "cell_type": "code",
   "execution_count": null,
   "metadata": {},
   "outputs": [],
   "source": []
  }
 ],
 "metadata": {
  "kernelspec": {
   "display_name": "Python 3",
   "language": "python",
   "name": "python3"
  },
  "language_info": {
   "codemirror_mode": {
    "name": "ipython",
    "version": 3
   },
   "file_extension": ".py",
   "mimetype": "text/x-python",
   "name": "python",
   "nbconvert_exporter": "python",
   "pygments_lexer": "ipython3",
   "version": "3.7.6"
  }
 },
 "nbformat": 4,
 "nbformat_minor": 4
}
